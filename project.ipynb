{
 "cells": [
  {
   "cell_type": "markdown",
   "metadata": {
    "colab_type": "text",
    "id": "IV9gnSMFdLu8"
   },
   "source": [
    "# project 1\n",
    "1- import the library that need for basic statistic.\n",
    "<br>2- import data from this link(https://raw.githubusercontent.com/plotly/datasets/master/2010_alcohol_consumption_by_country.csv)</br>\n",
    "<br>3- compute statistics parameters such as the mean, standard deviation, median, mode, maximum and minimum, range,1st,second and third percentile of the data</br>"
   ]
  },
  {
   "cell_type": "markdown",
   "metadata": {
    "colab_type": "text",
    "id": "ynFy-NFldLu-"
   },
   "source": [
    "# Answer:"
   ]
  },
  {
   "cell_type": "code",
   "execution_count": null,
   "metadata": {},
   "outputs": [],
   "source": [
    "# import all necessary libraries \n",
    "import pandas as pd\n",
    "import numpy as np\n",
    "from scipy import stats\n",
    "\n",
    "# get all dataset from the link \n",
    "data = pd.read_csv('https://raw.githubusercontent.com/plotly/datasets/master/2010_alcohol_consumption_by_country.csv')\n",
    "df = data[0:10] \n",
    "\n",
    "mean = np.mean(df['alcohol'])\n",
    "standard_deviation = np.std(df['alcohol'])\n",
    "median = np.median(df['alcohol'])\n",
    "maximum = np.max(df['alcohol'])\n",
    "minimum = np.min(df['alcohol'])\n",
    "rg = np.ptp(df['alcohol'])\n",
    "mode = stats.mode(df['alcohol'])\n",
    "percentile1 = np.percentile(data['alcohol'],25)\n",
    "percentile2 = np.percentile(data['alcohol'],50)\n",
    "percentile3 = np.percentile(data['alcohol'],75)\n",
    "\n",
    "print(\"Mean =\", mean)\n",
    "print(\"Standard Deviation=\", standard_deviation)\n",
    "print(\"Median=\", median)\n",
    "print(\"Maximum=\", maximum)\n",
    "print(\"Minimum=\", minimum)\n",
    "print(\"Range=\", rg)\n",
    "print(\"Mode=\", mode)\n",
    "print(\"Percentile1\", percentile1)\n",
    "print(\"Percentile2\", percentile2)\n",
    "print(\"Percentile3\", percentile3)"
   ]
  },
  {
   "cell_type": "markdown",
   "metadata": {
    "colab_type": "text",
    "id": "2c7C_d4ldLvL"
   },
   "source": [
    "# project 2\n",
    "<br>1-import data of brain_size file and print data so if it needs preproccessing try to do it</br>\n",
    "<br>2-separating data ';'</br>\n",
    "<br>3-change data . to nan</br>\n",
    "<br>4- as nan data are in weight and height column so change nan data to mean of that specific column.</br>\n",
    "<br>5- find statistic parameters for height </br>\n",
    "<br>6- find statistic parameters for weight</br>"
   ]
  },
  {
   "cell_type": "code",
   "execution_count": null,
   "metadata": {},
   "outputs": [],
   "source": [
    "from os import sep\n",
    "import pandas as pd\n",
    "import numpy as np\n",
    "from scipy import stats\n",
    "\n",
    "data = pd.read_csv('brain_size.csv', sep = \";\", na_values=\".\") # change all daya . to nan \n",
    "# filling the nan values with mean\n",
    "data['Weight'] = data['Weight'].fillna(np.mean(data['Weight']))\n",
    "data['Height'] = data['Height'].fillna(np.mean(data['Height']))\n"
   ]
  },
  {
   "cell_type": "code",
   "execution_count": null,
   "metadata": {},
   "outputs": [],
   "source": [
    "mean = np.mean(data['Weight'])\n",
    "std = np.std(data['Weight'])\n",
    "median = np.median(data['Weight'])\n",
    "maximum = np.max(data['Weight'])\n",
    "minimum = np.min(data['Weight'])\n",
    "mode = stats.mode(data['Weight'])\n",
    "rg =np.ptp(data['Weight'])\n",
    "percentile1=np.percentile(data['Weight'],25)\n",
    "percentile2=np.percentile(data['Weight'],50)\n",
    "percentile3=np.percentile(data['Weight'],75)\n",
    "\n",
    "print(\"Mean =\", mean)\n",
    "print(\"Standard Deviation=\", standard_deviation)\n",
    "print(\"Median=\", median)\n",
    "print(\"Maximum=\", maximum)\n",
    "print(\"Minimum=\", minimum)\n",
    "print(\"Range=\", rg)\n",
    "print(\"Mode=\", mode)\n",
    "print(\"Percentile1\", percentile1)\n",
    "print(\"Percentile2\", percentile2)\n",
    "print(\"Percentile3\", percentile3)"
   ]
  },
  {
   "cell_type": "markdown",
   "metadata": {
    "colab_type": "text",
    "id": "Mmdl6Q1GdLvh"
   },
   "source": [
    "# project3\n",
    "\n",
    "there is a simple command for dataset statistic that is .describe() \n",
    "use this library for two data set.\n",
    "\n"
   ]
  },
  {
   "cell_type": "code",
   "execution_count": 2,
   "metadata": {
    "colab": {},
    "colab_type": "code",
    "id": "tO5oz-rqdLvi",
    "outputId": "0051b16e-25be-42b9-da68-c071b3ce294d"
   },
   "outputs": [
    {
     "name": "stdout",
     "output_type": "stream",
     "text": [
      "       Unnamed: 0        FSIQ         VIQ        PIQ      Weight     Height  \\\n",
      "count   40.000000   40.000000   40.000000   40.00000   40.000000  40.000000   \n",
      "mean    20.500000  113.450000  112.350000  111.02500  151.052632  68.525641   \n",
      "std     11.690452   24.082071   23.616107   22.47105   22.868574   3.943103   \n",
      "min      1.000000   77.000000   71.000000   72.00000  106.000000  62.000000   \n",
      "25%     10.750000   89.750000   90.000000   88.25000  135.750000  66.000000   \n",
      "50%     20.500000  116.500000  113.000000  115.00000  147.500000  68.250000   \n",
      "75%     30.250000  135.500000  129.750000  128.00000  172.000000  70.500000   \n",
      "max     40.000000  144.000000  150.000000  150.00000  192.000000  77.000000   \n",
      "\n",
      "          MRI_Count  \n",
      "count  4.000000e+01  \n",
      "mean   9.087550e+05  \n",
      "std    7.228205e+04  \n",
      "min    7.906190e+05  \n",
      "25%    8.559185e+05  \n",
      "50%    9.053990e+05  \n",
      "75%    9.500780e+05  \n",
      "max    1.079549e+06  \n"
     ]
    }
   ],
   "source": [
    "from os import sep\n",
    "import pandas as pd\n",
    "import numpy as np\n",
    "from scipy import stats\n",
    "\n",
    "data = pd.read_csv('brain_size.csv', sep = \";\", na_values=\".\") # change all daya . to nan \n",
    "# filling the nan values with mean\n",
    "data['Weight'] = data['Weight'].fillna(np.mean(data['Weight']))\n",
    "data['Height'] = data['Height'].fillna(np.mean(data['Height']))\n",
    "\n",
    "print(data.describe())\n"
   ]
  },
  {
   "cell_type": "code",
   "execution_count": 0,
   "metadata": {
    "colab": {},
    "colab_type": "code",
    "id": "S1S3TnSAdLvm",
    "outputId": "106836ed-6051-44bb-fa6b-262bdfff7b55"
   },
   "outputs": [
    {
     "data": {
      "text/html": [
       "<div>\n",
       "<style>\n",
       "    .dataframe thead tr:only-child th {\n",
       "        text-align: right;\n",
       "    }\n",
       "\n",
       "    .dataframe thead th {\n",
       "        text-align: left;\n",
       "    }\n",
       "\n",
       "    .dataframe tbody tr th {\n",
       "        vertical-align: top;\n",
       "    }\n",
       "</style>\n",
       "<table border=\"1\" class=\"dataframe\">\n",
       "  <thead>\n",
       "    <tr style=\"text-align: right;\">\n",
       "      <th></th>\n",
       "      <th>Unnamed: 0</th>\n",
       "      <th>FSIQ</th>\n",
       "      <th>VIQ</th>\n",
       "      <th>PIQ</th>\n",
       "      <th>Weight</th>\n",
       "      <th>Height</th>\n",
       "      <th>MRI_Count</th>\n",
       "    </tr>\n",
       "  </thead>\n",
       "  <tbody>\n",
       "    <tr>\n",
       "      <th>count</th>\n",
       "      <td>40.000000</td>\n",
       "      <td>40.000000</td>\n",
       "      <td>40.000000</td>\n",
       "      <td>40.00000</td>\n",
       "      <td>38.000000</td>\n",
       "      <td>39.000000</td>\n",
       "      <td>4.000000e+01</td>\n",
       "    </tr>\n",
       "    <tr>\n",
       "      <th>mean</th>\n",
       "      <td>20.500000</td>\n",
       "      <td>113.450000</td>\n",
       "      <td>112.350000</td>\n",
       "      <td>111.02500</td>\n",
       "      <td>151.052632</td>\n",
       "      <td>68.525641</td>\n",
       "      <td>9.087550e+05</td>\n",
       "    </tr>\n",
       "    <tr>\n",
       "      <th>std</th>\n",
       "      <td>11.690452</td>\n",
       "      <td>24.082071</td>\n",
       "      <td>23.616107</td>\n",
       "      <td>22.47105</td>\n",
       "      <td>23.478509</td>\n",
       "      <td>3.994649</td>\n",
       "      <td>7.228205e+04</td>\n",
       "    </tr>\n",
       "    <tr>\n",
       "      <th>min</th>\n",
       "      <td>1.000000</td>\n",
       "      <td>77.000000</td>\n",
       "      <td>71.000000</td>\n",
       "      <td>72.00000</td>\n",
       "      <td>106.000000</td>\n",
       "      <td>62.000000</td>\n",
       "      <td>7.906190e+05</td>\n",
       "    </tr>\n",
       "    <tr>\n",
       "      <th>25%</th>\n",
       "      <td>10.750000</td>\n",
       "      <td>89.750000</td>\n",
       "      <td>90.000000</td>\n",
       "      <td>88.25000</td>\n",
       "      <td>135.250000</td>\n",
       "      <td>66.000000</td>\n",
       "      <td>8.559185e+05</td>\n",
       "    </tr>\n",
       "    <tr>\n",
       "      <th>50%</th>\n",
       "      <td>20.500000</td>\n",
       "      <td>116.500000</td>\n",
       "      <td>113.000000</td>\n",
       "      <td>115.00000</td>\n",
       "      <td>146.500000</td>\n",
       "      <td>68.000000</td>\n",
       "      <td>9.053990e+05</td>\n",
       "    </tr>\n",
       "    <tr>\n",
       "      <th>75%</th>\n",
       "      <td>30.250000</td>\n",
       "      <td>135.500000</td>\n",
       "      <td>129.750000</td>\n",
       "      <td>128.00000</td>\n",
       "      <td>172.000000</td>\n",
       "      <td>70.500000</td>\n",
       "      <td>9.500780e+05</td>\n",
       "    </tr>\n",
       "    <tr>\n",
       "      <th>max</th>\n",
       "      <td>40.000000</td>\n",
       "      <td>144.000000</td>\n",
       "      <td>150.000000</td>\n",
       "      <td>150.00000</td>\n",
       "      <td>192.000000</td>\n",
       "      <td>77.000000</td>\n",
       "      <td>1.079549e+06</td>\n",
       "    </tr>\n",
       "  </tbody>\n",
       "</table>\n",
       "</div>"
      ],
      "text/plain": [
       "       Unnamed: 0        FSIQ         VIQ        PIQ      Weight     Height  \\\n",
       "count   40.000000   40.000000   40.000000   40.00000   38.000000  39.000000   \n",
       "mean    20.500000  113.450000  112.350000  111.02500  151.052632  68.525641   \n",
       "std     11.690452   24.082071   23.616107   22.47105   23.478509   3.994649   \n",
       "min      1.000000   77.000000   71.000000   72.00000  106.000000  62.000000   \n",
       "25%     10.750000   89.750000   90.000000   88.25000  135.250000  66.000000   \n",
       "50%     20.500000  116.500000  113.000000  115.00000  146.500000  68.000000   \n",
       "75%     30.250000  135.500000  129.750000  128.00000  172.000000  70.500000   \n",
       "max     40.000000  144.000000  150.000000  150.00000  192.000000  77.000000   \n",
       "\n",
       "          MRI_Count  \n",
       "count  4.000000e+01  \n",
       "mean   9.087550e+05  \n",
       "std    7.228205e+04  \n",
       "min    7.906190e+05  \n",
       "25%    8.559185e+05  \n",
       "50%    9.053990e+05  \n",
       "75%    9.500780e+05  \n",
       "max    1.079549e+06  "
      ]
     },
     "execution_count": 16,
     "metadata": {
      "tags": []
     },
     "output_type": "execute_result"
    }
   ],
   "source": [
    "data2.describe()"
   ]
  },
  {
   "cell_type": "code",
   "execution_count": 0,
   "metadata": {
    "colab": {},
    "colab_type": "code",
    "id": "BfQH9WFsdLvt"
   },
   "outputs": [],
   "source": []
  }
 ],
 "metadata": {
  "colab": {
   "name": "project.ipynb",
   "provenance": []
  },
  "kernelspec": {
   "display_name": "Python 3",
   "language": "python",
   "name": "python3"
  },
  "language_info": {
   "codemirror_mode": {
    "name": "ipython",
    "version": 3
   },
   "file_extension": ".py",
   "mimetype": "text/x-python",
   "name": "python",
   "nbconvert_exporter": "python",
   "pygments_lexer": "ipython3",
   "version": "3.8.8"
  }
 },
 "nbformat": 4,
 "nbformat_minor": 1
}
